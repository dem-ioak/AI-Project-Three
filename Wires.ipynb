{
 "cells": [
  {
   "cell_type": "code",
   "execution_count": 1,
   "id": "f19fa14f-8d79-4759-8ec9-1f04bee37702",
   "metadata": {},
   "outputs": [],
   "source": [
    "# Dependencies\n",
    "import numpy as np\n",
    "import pandas as pd\n",
    "from enum import Enum\n",
    "import random\n",
    "import matplotlib.pyplot as plt"
   ]
  },
  {
   "cell_type": "code",
   "execution_count": 2,
   "id": "73d9698e-658f-4fcd-a55b-900fe909245c",
   "metadata": {},
   "outputs": [],
   "source": [
    "# Enums\n",
    "class Color(Enum):\n",
    "    BLACK = 0\n",
    "    RED = 1\n",
    "    BLUE = 2\n",
    "    YELLOW = 3\n",
    "    GREEN = 4\n",
    "\n",
    "class Label(Enum):\n",
    "    DANGEROUS = 0\n",
    "    SAFE = 1\n",
    "\n",
    "COLOR_TO_RGB = {\n",
    "    0 : (0, 0, 0),\n",
    "    1 : (255, 0, 0),\n",
    "    2 : (0, 0, 255),\n",
    "    3 : (255, 255, 0),\n",
    "    4 : (0, 255, 0)\n",
    "}"
   ]
  },
  {
   "cell_type": "code",
   "execution_count": 3,
   "id": "d52f086b-13da-454e-a629-8b2b154f8310",
   "metadata": {},
   "outputs": [],
   "source": [
    "# Image Generation\n",
    "class Image: # USE THIS CLASS TO DISPLAY / CREATE IMAGE\n",
    "    def __init__(self, data, label, third_wire):\n",
    "        self.data = data\n",
    "        self.label = label\n",
    "        self.third_wire = third_wire\n",
    "\n",
    "    def display(self):\n",
    "        n = self.data.shape[0]\n",
    "        image_data = [[0 for _ in range(n)] for _ in range(n)]\n",
    "        for i in range(n):\n",
    "            for j in range(n):\n",
    "                curr_val = self.data[i][j]\n",
    "                image_data[i][j] = COLOR_TO_RGB[curr_val]\n",
    "\n",
    "        plt.imshow(image_data)\n",
    "        plt.axis(\"off\")\n",
    "        plt.show()\n",
    "\n",
    "class DataSet:\n",
    "    def __init__(self):\n",
    "        self.image_data = []\n",
    "        self.labels = []\n",
    "        self.third_wires = []\n",
    "\n",
    "    def add_image(self, image, label, third_wire):\n",
    "        \"\"\"Add an image to the dataset using raw data\"\"\"\n",
    "        self.image_data.append(image)\n",
    "        self.labels.append(label.value)\n",
    "        self.third_wires.append(third_wire) \n",
    "\n",
    "class ImageGenerator:\n",
    "    \"\"\"Generates N (M x M) images and writes to data\"\"\"\n",
    "    def __init__(self, num_images, dimensions = 20, write_path = None, dataset = None, seed = None):\n",
    "        self.dimensions = dimensions\n",
    "        self.seed = seed\n",
    "        random.seed(seed)\n",
    "        for _ in range(num_images):\n",
    "            data, label, third_wire = self.generate(write_path is not None)\n",
    "            if dataset is not None:\n",
    "                dataset.add_image(data, label, third_wire)\n",
    "\n",
    "            # TODO: Write to data (may not be necessary, gen is really fast)\n",
    "            if write_path is not None:\n",
    "                pass\n",
    "\n",
    "    def generate(self, write_ = False):\n",
    "        \"\"\"Generate a single image and label it appropriately\"\"\"\n",
    "        n = self.dimensions\n",
    "        image_data = np.full((n, n), Color.BLACK.value)\n",
    "        colors = [Color.RED, Color.BLUE, Color.YELLOW, Color.GREEN]\n",
    "\n",
    "        # Keep track of rows/cols that can be used\n",
    "        valid_rows = list(range(n))\n",
    "        valid_cols = list(range(n))\n",
    "\n",
    "        # 1  = Color Row\n",
    "        # -1 = Color Col\n",
    "        pointer = random.choice([1, -1])\n",
    "        label = Label.SAFE\n",
    "        yellow_placed = False\n",
    "        third_wire = None\n",
    "\n",
    "        for i in range(4):\n",
    "            # Select a unused color\n",
    "            curr_color = random.choice(colors)\n",
    "            colors.remove(curr_color)\n",
    "\n",
    "            # Determine which should be cut (if dangerous)\n",
    "            if i == 2:\n",
    "                third_wire = curr_color\n",
    "            \n",
    "            # Handle marking an image as DANGEROUS if red is placed before yellow\n",
    "            yellow_placed = yellow_placed or curr_color == Color.YELLOW\n",
    "            if curr_color == Color.RED and not yellow_placed:\n",
    "                label = Label.DANGEROUS\n",
    "\n",
    "            if pointer == 1:\n",
    "                rand_idx = random.choice(valid_rows)\n",
    "                valid_rows.remove(rand_idx)\n",
    "                self.color_row(rand_idx, curr_color, image_data)\n",
    "            else:\n",
    "                rand_idx = random.choice(valid_cols)\n",
    "                valid_cols.remove(rand_idx)\n",
    "                self.color_column(rand_idx, curr_color, image_data)\n",
    "                \n",
    "            pointer *= -1\n",
    "        \n",
    "        return image_data, label, third_wire\n",
    "            \n",
    "\n",
    "    def color_column(self, col, color, arr):\n",
    "        \"\"\"Color the given column of the image with the provided color\"\"\"\n",
    "        n = self.dimensions\n",
    "        for i in range(n):\n",
    "            arr[i][col] = color.value\n",
    "\n",
    "    def color_row(self, row, color, arr):\n",
    "        \"\"\"Color the given row of the image with the provided color\"\"\"\n",
    "        n = self.dimensions\n",
    "        for i in range(n):\n",
    "            arr[row][i] = color.value"
   ]
  },
  {
   "cell_type": "code",
   "execution_count": 4,
   "id": "c8558733-7132-4c86-9b2a-27e1f506fe7a",
   "metadata": {},
   "outputs": [],
   "source": [
    "data = DataSet()\n",
    "img_gen = ImageGenerator(50, dataset = data, seed = 718067190)"
   ]
  },
  {
   "cell_type": "code",
   "execution_count": 5,
   "id": "68fb007b-bd58-41ba-b5ac-098a9a464fa9",
   "metadata": {},
   "outputs": [
    {
     "data": {
      "image/png": "[encoded data removed]",
      "text/plain": [
       "<Figure size 640x480 with 1 Axes>"
      ]
     },
     "metadata": {},
     "output_type": "display_data"
    }
   ],
   "source": [
    "def load_image(dataset_obj, index):\n",
    "    \"\"\"Load a specific index of the dataset\"\"\"\n",
    "    image_data = dataset_obj.image_data[index]\n",
    "    label = dataset_obj.labels[index]\n",
    "    third_wire = dataset_obj.third_wires[index]\n",
    "    img = Image(image_data, label, third_wire)\n",
    "    return img\n",
    "\n",
    "load_image(data, 20).display()"
   ]
  },
  {
   "cell_type": "code",
   "execution_count": 6,
   "id": "d6b7a3ac-2fd5-4625-ae8e-4cad1caaa172",
   "metadata": {},
   "outputs": [],
   "source": [
    "# Math Stuff\n",
    "def sigmoid(z):\n",
    "    return 1 / (1 + np.exp(-z))"
   ]
  },
  {
   "cell_type": "code",
   "execution_count": 7,
   "id": "d0955d87",
   "metadata": {},
   "outputs": [],
   "source": [
    "# Logistic Regression - Task 1\n",
    "class LogisticRegression:\n",
    "    def __init__(self, examples, labels, alpha):\n",
    "        self.m = len(examples)                                # of training examples\n",
    "        self.n = len(examples[0])                             # of features\n",
    "        self.examples = np.c_[np.ones(self.m), examples]      # Add column of 1s for W_0\n",
    "        self.labels = labels                                  # Classification Labels\n",
    "        self.parameters = np.zeros(self.n + 1)                # Current parameters / weights\n",
    "        self.alpha = alpha                                    # Learning rate   \n",
    "\n",
    "    def predict(self):\n",
    "        \"\"\"Compute h_w(x_i) for the provided weight values\"\"\"\n",
    "        dot_product = np.dot(self.examples, self.parameters)\n",
    "        return sigmoid(dot_product)\n",
    "\n",
    "    def loss(self, predictions):\n",
    "        \"\"\"Compute the current value of average loss based on predictions\"\"\"\n",
    "        y = self.labels\n",
    "        return np.sum((-y * np.log(predictions) - ((1 - y) * np.log(1 - predictions))))\n",
    "\n",
    "    def sgd(self):\n",
    "        \"\"\"Run Stochastic Gradient Descent to find `parameters` to minimize loss\"\"\"\n",
    "        pass"
   ]
  },
  {
   "cell_type": "code",
   "execution_count": 8,
   "id": "41752184-26ab-4070-b264-067b4ec876e7",
   "metadata": {},
   "outputs": [
    {
     "data": {
      "text/plain": [
       "(50, 400)"
      ]
     },
     "execution_count": 8,
     "metadata": {},
     "output_type": "execute_result"
    }
   ],
   "source": [
    "# Preprocess data (this should be done somewhere else, but here for now)\n",
    "image_data = np.array(data.image_data)\n",
    "label_data = np.array(data.labels)\n",
    "flattened_data = image_data.reshape(image_data.shape[0], -1)\n"
   ]
  },
  {
   "cell_type": "code",
   "execution_count": 10,
   "id": "501114df-ab19-47f5-a4ec-8fa1d087e78b",
   "metadata": {},
   "outputs": [
    {
     "data": {
      "text/plain": [
       "array([0.5, 0.5, 0.5, 0.5, 0.5, 0.5, 0.5, 0.5, 0.5, 0.5, 0.5, 0.5, 0.5,\n",
       "       0.5, 0.5, 0.5, 0.5, 0.5, 0.5, 0.5, 0.5, 0.5, 0.5, 0.5, 0.5, 0.5,\n",
       "       0.5, 0.5, 0.5, 0.5, 0.5, 0.5, 0.5, 0.5, 0.5, 0.5, 0.5, 0.5, 0.5,\n",
       "       0.5, 0.5, 0.5, 0.5, 0.5, 0.5, 0.5, 0.5, 0.5, 0.5, 0.5])"
      ]
     },
     "execution_count": 10,
     "metadata": {},
     "output_type": "execute_result"
    }
   ],
   "source": [
    "# \n",
    "lr = LogisticRegression(flattened_data, label_data, .0001)\n",
    "predictions = lr.predict()\n",
    "loss = lr.loss(predictions)\n",
    "predictions"
   ]
  },
  {
   "cell_type": "code",
   "execution_count": null,
   "id": "fa529d9d-8e5b-444e-8bf9-6c55c636ce20",
   "metadata": {},
   "outputs": [],
   "source": []
  },
  {
   "cell_type": "code",
   "execution_count": null,
   "id": "7c97b88b-73bb-47f0-80f0-623d54b66b20",
   "metadata": {},
   "outputs": [],
   "source": []
  }
 ],
 "metadata": {
  "kernelspec": {
   "display_name": "Python 3 (ipykernel)",
   "language": "python",
   "name": "python3"
  },
  "language_info": {
   "codemirror_mode": {
    "name": "ipython",
    "version": 3
   },
   "file_extension": ".py",
   "mimetype": "text/x-python",
   "name": "python",
   "nbconvert_exporter": "python",
   "pygments_lexer": "ipython3",
   "version": "3.11.4"
  }
 },
 "nbformat": 4,
 "nbformat_minor": 5
}
